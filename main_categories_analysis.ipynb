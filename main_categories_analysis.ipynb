{
 "cells": [
  {
   "cell_type": "code",
   "execution_count": null,
   "metadata": {},
   "outputs": [],
   "source": [
    "import pandas as pd\n",
    "import numpy as np\n",
    "\n",
    "from sqlalchemy import create_engine\n",
    "engine = create_engine('postgresql://****') #removed"
   ]
  },
  {
   "cell_type": "code",
   "execution_count": null,
   "metadata": {},
   "outputs": [],
   "source": [
    "query = '''\n",
    "select \n",
    "d.id as donation_id,\n",
    "amount_in_cents,\n",
    "codonation_amount_in_cents,\n",
    "category as donation_type, \n",
    "receiver_name as project_name, \n",
    "c.name as main_category\n",
    "from donations d \n",
    "inner join \n",
    "projects p\n",
    "on d.receiver_identifier = p.identifier \n",
    "inner join\n",
    "main_categories mc\n",
    "on mc.project_id = p.project_id\n",
    "inner join\n",
    "categories c\n",
    "on c.id = mc.category_id\n",
    "where category = 'UserDonation';\n",
    "'''\n",
    "\n",
    "test_data = pd.read_sql(sql=query, con=engine)\n",
    "test_data.head()"
   ]
  },
  {
   "cell_type": "markdown",
   "metadata": {},
   "source": [
    "# Predicting the donation amount by category"
   ]
  },
  {
   "cell_type": "code",
   "execution_count": null,
   "metadata": {},
   "outputs": [],
   "source": [
    "y = test_data['amount_in_cents']\n",
    "y.shape"
   ]
  },
  {
   "cell_type": "code",
   "execution_count": null,
   "metadata": {},
   "outputs": [],
   "source": [
    "X = pd.get_dummies(test_data['main_category'], prefix='mc')\n",
    "X.shape"
   ]
  },
  {
   "cell_type": "code",
   "execution_count": null,
   "metadata": {},
   "outputs": [],
   "source": [
    "X.head()"
   ]
  },
  {
   "cell_type": "markdown",
   "metadata": {},
   "source": [
    "## Statistics"
   ]
  },
  {
   "cell_type": "code",
   "execution_count": null,
   "metadata": {},
   "outputs": [],
   "source": [
    "def cents_to_eur(val):\n",
    "    return round(val / 100, 0)\n",
    "\n",
    "def plot_stats_per_category(value_column):\n",
    "    df = test_data[['main_category', value_column]]\n",
    "    df.columns = ['main_category', 'amount in EUR']\n",
    "    grp = df.groupby('main_category')\n",
    "    stats = pd.DataFrame(grp.describe().apply(cents_to_eur).astype(int))\n",
    "    plot = stats['amount in EUR'][['count', 'mean', 'std', 'min', 'max']].plot(kind='bar', subplots=True, figsize=(6, 9)); plt.legend(loc='best')\n",
    "    return plot, stats\n",
    "\n",
    "plot, stats = plot_stats_per_category('amount_in_cents')"
   ]
  },
  {
   "cell_type": "code",
   "execution_count": null,
   "metadata": {},
   "outputs": [],
   "source": [
    "stats"
   ]
  },
  {
   "cell_type": "markdown",
   "metadata": {},
   "source": [
    "## Prediction"
   ]
  },
  {
   "cell_type": "code",
   "execution_count": null,
   "metadata": {},
   "outputs": [],
   "source": [
    "from sklearn.cross_validation import train_test_split\n",
    "from sklearn import grid_search\n",
    "from sklearn.tree import DecisionTreeRegressor\n",
    "\n",
    "import matplotlib.pyplot as plt\n",
    "%matplotlib inline"
   ]
  },
  {
   "cell_type": "code",
   "execution_count": null,
   "metadata": {},
   "outputs": [],
   "source": [
    "from sklearn import linear_model\n",
    "\n",
    "def train_linear_model(X,y):\n",
    "    model = linear_model.LinearRegression()\n",
    "    model.fit(X, y)\n",
    "    print('Coefficients: \\n', model.coef_)\n",
    "    return model\n",
    "\n",
    "X_train, X_test, y_train, y_test = train_test_split(X, y, test_size=0.3)\n",
    "model = train_linear_model(X_train, y_train)"
   ]
  },
  {
   "cell_type": "code",
   "execution_count": null,
   "metadata": {},
   "outputs": [],
   "source": [
    "from sklearn.model_selection import learning_curve\n",
    "from sklearn.model_selection import ShuffleSplit\n",
    "\n",
    "def plot_learning_curve(estimator, title, X, y, ylim=None):\n",
    "    '''\n",
    "    See http://scikit-learn.org/stable/auto_examples/model_selection/plot_learning_curve.html#sphx-glr-auto-examples-model-selection-plot-learning-curve-py\n",
    "    '''\n",
    "    plt.figure()\n",
    "    plt.title(title)\n",
    "    \n",
    "    if ylim is not None:\n",
    "        plt.ylim(*ylim)\n",
    "\n",
    "    plt.xlabel(\"Training examples\")\n",
    "    plt.ylabel(\"Score\")\n",
    "    train_sizes, train_scores, test_scores = learning_curve(estimator, X, y, n_jobs=1)\n",
    "    train_scores_mean = np.mean(train_scores, axis=1)\n",
    "    train_scores_std = np.std(train_scores, axis=1)\n",
    "    test_scores_mean = np.mean(test_scores, axis=1)\n",
    "    test_scores_std = np.std(test_scores, axis=1)\n",
    "    plt.grid()\n",
    "\n",
    "    plt.fill_between(train_sizes, train_scores_mean - train_scores_std,\n",
    "                     train_scores_mean + train_scores_std, alpha=0.1,\n",
    "                     color=\"r\")\n",
    "    plt.fill_between(train_sizes, test_scores_mean - test_scores_std,\n",
    "                     test_scores_mean + test_scores_std, alpha=0.1, color=\"g\")\n",
    "    plt.plot(train_sizes, train_scores_mean, 'o-', color=\"r\",\n",
    "             label=\"Training score\")\n",
    "    plt.plot(train_sizes, test_scores_mean, 'o-', color=\"g\",\n",
    "             label=\"Cross-validation score\")\n",
    "\n",
    "    plt.legend(loc=\"best\")\n",
    "    return plt\n",
    "\n",
    "\n",
    "plt = plot_learning_curve(model, 'Learning curve', X, y)\n",
    "\n",
    "plt.show()"
   ]
  },
  {
   "cell_type": "code",
   "execution_count": null,
   "metadata": {},
   "outputs": [],
   "source": [
    "def predict_for_main_categories(X, model, spendenart):\n",
    "    predictions = {}\n",
    "    dummies_table = X.head(0)\n",
    "\n",
    "    for category in test_data['main_category'].unique():\n",
    "        dummies_table.loc[0] = np.zeros(24)\n",
    "        dummies_table['mc_' + category][0] = 1\n",
    "        value = model.predict(dummies_table)\n",
    "        predictions[category] = value\n",
    "\n",
    "\n",
    "    pred_df = pd.DataFrame(predictions).transpose()\n",
    "    donation_results = pred_df.reset_index(inplace=False)\n",
    "    donation_results.columns = 'Kategorie', spendenart\n",
    "    donation_results[spendenart] = donation_results[spendenart] / 100\n",
    "    donation_results.sort_values(by=spendenart, inplace=True)\n",
    "    donation_results[spendenart] = donation_results[spendenart].astype(int)\n",
    "    return donation_results\n",
    "\n",
    "donations = predict_for_main_categories(X, model, 'Spende in Euro')"
   ]
  },
  {
   "cell_type": "code",
   "execution_count": null,
   "metadata": {},
   "outputs": [],
   "source": [
    "donations"
   ]
  },
  {
   "cell_type": "code",
   "execution_count": null,
   "metadata": {},
   "outputs": [],
   "source": [
    "#donations.to_csv('vorhergesagte_spendenhoehe_pro_hauptkategorie.csv', index=False, sep=';')"
   ]
  },
  {
   "cell_type": "markdown",
   "metadata": {},
   "source": [
    "# Predicting the codonation by category"
   ]
  },
  {
   "cell_type": "code",
   "execution_count": null,
   "metadata": {},
   "outputs": [],
   "source": [
    "y_codonation = test_data['codonation_amount_in_cents']\n",
    "y_codonation.shape"
   ]
  },
  {
   "cell_type": "markdown",
   "metadata": {},
   "source": [
    "## Statistiken"
   ]
  },
  {
   "cell_type": "code",
   "execution_count": null,
   "metadata": {},
   "outputs": [],
   "source": [
    "codonation_plot, codonation_stats = plot_stats_per_category('codonation_amount_in_cents')"
   ]
  },
  {
   "cell_type": "code",
   "execution_count": null,
   "metadata": {},
   "outputs": [],
   "source": [
    "codonation_stats"
   ]
  },
  {
   "cell_type": "code",
   "execution_count": null,
   "metadata": {},
   "outputs": [],
   "source": [
    "X_train_cd, X_test_cd, y_train_cd, y_test_cd = train_test_split(X, y_codonation, test_size=0.3)\n",
    "model_codonation = train_linear_model(X_train_cd, y_train_cd)"
   ]
  },
  {
   "cell_type": "code",
   "execution_count": null,
   "metadata": {},
   "outputs": [],
   "source": [
    "plt = plot_learning_curve(model, 'Learning curve', X, y_codonation)\n",
    "\n",
    "plt.show()"
   ]
  },
  {
   "cell_type": "code",
   "execution_count": null,
   "metadata": {},
   "outputs": [],
   "source": [
    "codonations = predict_for_main_categories(X, model_codonation, 'Mitspende in Euro')\n",
    "codonations"
   ]
  },
  {
   "cell_type": "code",
   "execution_count": null,
   "metadata": {},
   "outputs": [],
   "source": [
    "#codonations.to_csv('vorhergesagte_mitspendenhoehe_pro_hauptkategorie.csv', index=False, sep=';')"
   ]
  }
 ],
 "metadata": {
  "kernelspec": {
   "display_name": "Python 3",
   "language": "python",
   "name": "python3"
  },
  "language_info": {
   "codemirror_mode": {
    "name": "ipython",
    "version": 3
   },
   "file_extension": ".py",
   "mimetype": "text/x-python",
   "name": "python",
   "nbconvert_exporter": "python",
   "pygments_lexer": "ipython3",
   "version": "3.6.4"
  }
 },
 "nbformat": 4,
 "nbformat_minor": 2
}
